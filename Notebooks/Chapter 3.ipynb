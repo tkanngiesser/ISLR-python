{
  "nbformat": 4,
  "nbformat_minor": 0,
  "metadata": {
    "kernelspec": {
      "display_name": "Python 3",
      "language": "python",
      "name": "python3"
    },
    "language_info": {
      "codemirror_mode": {
        "name": "ipython",
        "version": 3
      },
      "file_extension": ".py",
      "mimetype": "text/x-python",
      "name": "python",
      "nbconvert_exporter": "python",
      "pygments_lexer": "ipython3",
      "version": "3.6.4"
    },
    "colab": {
      "name": "Chapter 3.ipynb",
      "provenance": [],
      "include_colab_link": true
    }
  },
  "cells": [
    {
      "cell_type": "markdown",
      "metadata": {
        "id": "view-in-github",
        "colab_type": "text"
      },
      "source": [
        "<a href=\"https://colab.research.google.com/github/tkanngiesser/ISLR-python/blob/master/Notebooks/Chapter%203.ipynb\" target=\"_parent\"><img src=\"https://colab.research.google.com/assets/colab-badge.svg\" alt=\"Open In Colab\"/></a>"
      ]
    },
    {
      "cell_type": "markdown",
      "metadata": {
        "id": "xoNa_cNO5BL2",
        "colab_type": "text"
      },
      "source": [
        "# Chapter 3 - Linear Regression"
      ]
    },
    {
      "cell_type": "markdown",
      "metadata": {
        "id": "3H9WHpEb5BL3",
        "colab_type": "text"
      },
      "source": [
        "- [Load Datasets](#Load-Datasets)\n",
        "- [3.1 Simple Linear Regression](#3.1-Simple-Linear-Regression)\n",
        "- [3.2 Multiple Linear Regression](#3.2-Multiple-Linear-Regression)\n",
        "- [3.3 Other Considerations in the Regression Model](#3.3-Other-Considerations-in-the-Regression-Model)"
      ]
    },
    {
      "cell_type": "code",
      "metadata": {
        "id": "e31FF6pp5rDz",
        "colab_type": "code",
        "colab": {}
      },
      "source": [
        "import warnings\n",
        "warnings.filterwarnings('ignore')"
      ],
      "execution_count": 0,
      "outputs": []
    },
    {
      "cell_type": "code",
      "metadata": {
        "id": "b1Uun8yF5BL5",
        "colab_type": "code",
        "colab": {}
      },
      "source": [
        "# %load ../standard_import.txt\n",
        "import pandas as pd\n",
        "import numpy as np\n",
        "import matplotlib as mpl\n",
        "import matplotlib.pyplot as plt\n",
        "from mpl_toolkits.mplot3d import axes3d\n",
        "import seaborn as sns\n",
        "\n",
        "from sklearn.preprocessing import scale\n",
        "import sklearn.linear_model as skl_lm\n",
        "from sklearn.metrics import mean_squared_error, r2_score\n",
        "import statsmodels.api as sm\n",
        "import statsmodels.formula.api as smf"
      ],
      "execution_count": 0,
      "outputs": []
    },
    {
      "cell_type": "code",
      "metadata": {
        "id": "zfFdgTcO5D5q",
        "colab_type": "code",
        "colab": {}
      },
      "source": [
        "%matplotlib inline\n",
        "plt.style.use('seaborn-white')\n",
        "mpl.rc('axes', labelsize=14)\n",
        "mpl.rc('xtick', labelsize=12)\n",
        "mpl.rc('ytick', labelsize=12)\n",
        "mpl.rcParams[\"axes.spines.right\"] = False\n",
        "mpl.rcParams[\"axes.spines.top\"] = False\n",
        "mpl.rcParams['figure.figsize'] = 10, 6"
      ],
      "execution_count": 0,
      "outputs": []
    },
    {
      "cell_type": "markdown",
      "metadata": {
        "id": "HU1AXwHu5BMD",
        "colab_type": "text"
      },
      "source": [
        "### Load Datasets\n",
        "Datasets available on http://www-bcf.usc.edu/~gareth/ISL/data.html"
      ]
    },
    {
      "cell_type": "code",
      "metadata": {
        "id": "F8r5a0ws5BME",
        "colab_type": "code",
        "colab": {
          "base_uri": "https://localhost:8080/",
          "height": 168
        },
        "outputId": "b7fa4a64-9468-46d1-8530-7ab3605eba0a"
      },
      "source": [
        "advertising = pd.read_csv('https://raw.githubusercontent.com/tkanngiesser/ISLR-python/master/Notebooks/Data/Advertising.csv', usecols=[1,2,3,4])\n",
        "advertising.info()"
      ],
      "execution_count": 13,
      "outputs": [
        {
          "output_type": "stream",
          "text": [
            "<class 'pandas.core.frame.DataFrame'>\n",
            "RangeIndex: 200 entries, 0 to 199\n",
            "Data columns (total 4 columns):\n",
            "TV           200 non-null float64\n",
            "Radio        200 non-null float64\n",
            "Newspaper    200 non-null float64\n",
            "Sales        200 non-null float64\n",
            "dtypes: float64(4)\n",
            "memory usage: 6.3 KB\n"
          ],
          "name": "stdout"
        }
      ]
    },
    {
      "cell_type": "code",
      "metadata": {
        "id": "6Tio5eo25BMI",
        "colab_type": "code",
        "colab": {
          "base_uri": "https://localhost:8080/",
          "height": 136
        },
        "outputId": "1b8e6e02-b6b5-4df0-e60f-7ea975faca0d"
      },
      "source": [
        "credit = pd.read_csv('https://raw.githubusercontent.com/tkanngiesser/ISLR-python/master/Notebooks/Data/Credit.csv', usecols=list(range(1,12)))\n",
        "credit['Student2'] = credit.Student.map({'No':0, 'Yes':1})\n",
        "credit.head(3)"
      ],
      "execution_count": 14,
      "outputs": [
        {
          "output_type": "execute_result",
          "data": {
            "text/html": [
              "<div>\n",
              "<style scoped>\n",
              "    .dataframe tbody tr th:only-of-type {\n",
              "        vertical-align: middle;\n",
              "    }\n",
              "\n",
              "    .dataframe tbody tr th {\n",
              "        vertical-align: top;\n",
              "    }\n",
              "\n",
              "    .dataframe thead th {\n",
              "        text-align: right;\n",
              "    }\n",
              "</style>\n",
              "<table border=\"1\" class=\"dataframe\">\n",
              "  <thead>\n",
              "    <tr style=\"text-align: right;\">\n",
              "      <th></th>\n",
              "      <th>Income</th>\n",
              "      <th>Limit</th>\n",
              "      <th>Rating</th>\n",
              "      <th>Cards</th>\n",
              "      <th>Age</th>\n",
              "      <th>Education</th>\n",
              "      <th>Gender</th>\n",
              "      <th>Student</th>\n",
              "      <th>Married</th>\n",
              "      <th>Ethnicity</th>\n",
              "      <th>Balance</th>\n",
              "      <th>Student2</th>\n",
              "    </tr>\n",
              "  </thead>\n",
              "  <tbody>\n",
              "    <tr>\n",
              "      <th>0</th>\n",
              "      <td>14.891</td>\n",
              "      <td>3606</td>\n",
              "      <td>283</td>\n",
              "      <td>2</td>\n",
              "      <td>34</td>\n",
              "      <td>11</td>\n",
              "      <td>Male</td>\n",
              "      <td>No</td>\n",
              "      <td>Yes</td>\n",
              "      <td>Caucasian</td>\n",
              "      <td>333</td>\n",
              "      <td>0</td>\n",
              "    </tr>\n",
              "    <tr>\n",
              "      <th>1</th>\n",
              "      <td>106.025</td>\n",
              "      <td>6645</td>\n",
              "      <td>483</td>\n",
              "      <td>3</td>\n",
              "      <td>82</td>\n",
              "      <td>15</td>\n",
              "      <td>Female</td>\n",
              "      <td>Yes</td>\n",
              "      <td>Yes</td>\n",
              "      <td>Asian</td>\n",
              "      <td>903</td>\n",
              "      <td>1</td>\n",
              "    </tr>\n",
              "    <tr>\n",
              "      <th>2</th>\n",
              "      <td>104.593</td>\n",
              "      <td>7075</td>\n",
              "      <td>514</td>\n",
              "      <td>4</td>\n",
              "      <td>71</td>\n",
              "      <td>11</td>\n",
              "      <td>Male</td>\n",
              "      <td>No</td>\n",
              "      <td>No</td>\n",
              "      <td>Asian</td>\n",
              "      <td>580</td>\n",
              "      <td>0</td>\n",
              "    </tr>\n",
              "  </tbody>\n",
              "</table>\n",
              "</div>"
            ],
            "text/plain": [
              "    Income  Limit  Rating  Cards  ...  Married  Ethnicity Balance Student2\n",
              "0   14.891   3606     283      2  ...      Yes  Caucasian     333        0\n",
              "1  106.025   6645     483      3  ...      Yes      Asian     903        1\n",
              "2  104.593   7075     514      4  ...       No      Asian     580        0\n",
              "\n",
              "[3 rows x 12 columns]"
            ]
          },
          "metadata": {
            "tags": []
          },
          "execution_count": 14
        }
      ]
    },
    {
      "cell_type": "code",
      "metadata": {
        "id": "jsZjGkym5BMM",
        "colab_type": "code",
        "colab": {
          "base_uri": "https://localhost:8080/",
          "height": 252
        },
        "outputId": "83c6e422-0fa0-4a35-a488-b8105b957ada"
      },
      "source": [
        "auto = pd.read_csv('https://raw.githubusercontent.com/tkanngiesser/ISLR-python/master/Notebooks/Data/Auto.csv', na_values='?').dropna()\n",
        "auto.info()"
      ],
      "execution_count": 15,
      "outputs": [
        {
          "output_type": "stream",
          "text": [
            "<class 'pandas.core.frame.DataFrame'>\n",
            "Int64Index: 392 entries, 0 to 396\n",
            "Data columns (total 9 columns):\n",
            "mpg             392 non-null float64\n",
            "cylinders       392 non-null int64\n",
            "displacement    392 non-null float64\n",
            "horsepower      392 non-null float64\n",
            "weight          392 non-null int64\n",
            "acceleration    392 non-null float64\n",
            "year            392 non-null int64\n",
            "origin          392 non-null int64\n",
            "name            392 non-null object\n",
            "dtypes: float64(4), int64(4), object(1)\n",
            "memory usage: 30.6+ KB\n"
          ],
          "name": "stdout"
        }
      ]
    },
    {
      "cell_type": "markdown",
      "metadata": {
        "id": "9cX5gKUq5BMP",
        "colab_type": "text"
      },
      "source": [
        "## 3.1 Simple Linear Regression"
      ]
    },
    {
      "cell_type": "markdown",
      "metadata": {
        "id": "IO5HqtY75BMR",
        "colab_type": "text"
      },
      "source": [
        "### Figure 3.1 - Least squares fit"
      ]
    },
    {
      "cell_type": "code",
      "metadata": {
        "scrolled": true,
        "id": "Dp_wZFTm5BMR",
        "colab_type": "code",
        "colab": {
          "base_uri": "https://localhost:8080/",
          "height": 406
        },
        "outputId": "568584c3-aa13-4497-865c-f8b3307df4d1"
      },
      "source": [
        "sns.regplot(advertising.TV, advertising.Sales, order=1, ci=None, scatter_kws={'color':'r', 's':9})\n",
        "plt.xlim(-10,310)\n",
        "plt.ylim(ymin=0)\n",
        "plt.title('Least squares fit');"
      ],
      "execution_count": 20,
      "outputs": [
        {
          "output_type": "display_data",
          "data": {
            "image/png": "[encoded data removed]",
            "text/plain": [
              "<Figure size 720x432 with 1 Axes>"
            ]
          },
          "metadata": {
            "tags": []
          }
        }
      ]
    },
    {
      "cell_type": "markdown",
      "metadata": {
        "id": "Sti7CRuz5BMV",
        "colab_type": "text"
      },
      "source": [
        "### Figure 3.2 - Regression coefficients - RSS\n",
        "Note that the text in the book describes the coefficients based on uncentered data, whereas the plot shows the model based on centered data. The latter is visually more appealing for explaining the concept of a minimum RSS. I think that, in order not to confuse the reader, the values on the axis of the B0 coefficients have been changed to correspond with the text. The axes on the plots below are unaltered."
      ]
    },
    {
      "cell_type": "code",
      "metadata": {
        "id": "lZmMXCk45BMV",
        "colab_type": "code",
        "colab": {
          "base_uri": "https://localhost:8080/",
          "height": 50
        },
        "outputId": "93afee0b-5f50-40d0-caf1-0594c0f5e822"
      },
      "source": [
        "# Regression coefficients (Ordinary Least Squares)\n",
        "regr = skl_lm.LinearRegression()\n",
        "\n",
        "X = scale(advertising.TV, with_mean=True, with_std=False).reshape(-1,1)\n",
        "y = advertising.Sales\n",
        "\n",
        "regr.fit(X,y)\n",
        "print(regr.intercept_)\n",
        "print(regr.coef_)"
      ],
      "execution_count": 21,
      "outputs": [
        {
          "output_type": "stream",
          "text": [
            "14.0225\n",
            "[0.04753664]\n"
          ],
          "name": "stdout"
        }
      ]
    },
    {
      "cell_type": "code",
      "metadata": {
        "id": "gSFjcI6b5BMY",
        "colab_type": "code",
        "colab": {
          "base_uri": "https://localhost:8080/",
          "height": 34
        },
        "outputId": "b45ae1d2-0e31-4638-9d5f-6dae94ce32ba"
      },
      "source": [
        "# Create grid coordinates for plotting\n",
        "B0 = np.linspace(regr.intercept_-2, regr.intercept_+2, 50)\n",
        "B1 = np.linspace(regr.coef_-0.02, regr.coef_+0.02, 50)\n",
        "xx, yy = np.meshgrid(B0, B1, indexing='xy')\n",
        "Z = np.zeros((B0.size,B1.size))\n",
        "\n",
        "# Calculate Z-values (RSS) based on grid of coefficients\n",
        "for (i,j),v in np.ndenumerate(Z):\n",
        "    Z[i,j] =((y - (xx[i,j]+X.ravel()*yy[i,j]))**2).sum()/1000\n",
        "\n",
        "# Minimized RSS\n",
        "min_RSS = r'$\\beta_0$, $\\beta_1$ for minimized RSS'\n",
        "min_rss = np.sum((regr.intercept_+regr.coef_*X - y.values.reshape(-1,1))**2)/1000\n",
        "min_rss"
      ],
      "execution_count": 22,
      "outputs": [
        {
          "output_type": "execute_result",
          "data": {
            "text/plain": [
              "2.1025305831313514"
            ]
          },
          "metadata": {
            "tags": []
          },
          "execution_count": 22
        }
      ]
    },
    {
      "cell_type": "code",
      "metadata": {
        "id": "6eqaTwlq5BMd",
        "colab_type": "code",
        "colab": {
          "base_uri": "https://localhost:8080/",
          "height": 442
        },
        "outputId": "85f63a41-ed6b-4bf7-af55-190c481aa3a0"
      },
      "source": [
        "fig = plt.figure(figsize=(15,6))\n",
        "fig.suptitle('RSS - Regression coefficients', fontsize=20)\n",
        "\n",
        "ax1 = fig.add_subplot(121)\n",
        "ax2 = fig.add_subplot(122, projection='3d')\n",
        "\n",
        "# Left plot\n",
        "CS = ax1.contour(xx, yy, Z, cmap=plt.cm.Set1, levels=[2.15, 2.2, 2.3, 2.5, 3])\n",
        "ax1.scatter(regr.intercept_, regr.coef_[0], c='r', label=min_RSS)\n",
        "ax1.clabel(CS, inline=True, fontsize=10, fmt='%1.1f')\n",
        "\n",
        "# Right plot\n",
        "ax2.plot_surface(xx, yy, Z, rstride=3, cstride=3, alpha=0.3)\n",
        "ax2.contour(xx, yy, Z, zdir='z', offset=Z.min(), cmap=plt.cm.Set1,\n",
        "            alpha=0.4, levels=[2.15, 2.2, 2.3, 2.5, 3])\n",
        "ax2.scatter3D(regr.intercept_, regr.coef_[0], min_rss, c='r', label=min_RSS)\n",
        "ax2.set_zlabel('RSS')\n",
        "ax2.set_zlim(Z.min(),Z.max())\n",
        "ax2.set_ylim(0.02,0.07)\n",
        "\n",
        "# settings common to both plots\n",
        "for ax in fig.axes:\n",
        "    ax.set_xlabel(r'$\\beta_0$', fontsize=17)\n",
        "    ax.set_ylabel(r'$\\beta_1$', fontsize=17)\n",
        "    ax.set_yticks([0.03,0.04,0.05,0.06])\n",
        "    ax.legend()"
      ],
      "execution_count": 23,
      "outputs": [
        {
          "output_type": "display_data",
          "data": {
            "image/png": "[encoded data removed]",
            "text/plain": [
              "<Figure size 1080x432 with 2 Axes>"
            ]
          },
          "metadata": {
            "tags": []
          }
        }
      ]
    },
    {
      "cell_type": "markdown",
      "metadata": {
        "id": "PJXfKJMi5BMi",
        "colab_type": "text"
      },
      "source": [
        "### Confidence interval on page 67 & Table 3.1 & 3.2 - Statsmodels "
      ]
    },
    {
      "cell_type": "code",
      "metadata": {
        "id": "Hnp1vC8Z5BMk",
        "colab_type": "code",
        "colab": {}
      },
      "source": [
        "est = smf.ols('Sales ~ TV', advertising).fit()\n",
        "est.summary().tables[1]"
      ],
      "execution_count": 0,
      "outputs": []
    },
    {
      "cell_type": "code",
      "metadata": {
        "id": "I31qF8465BMm",
        "colab_type": "code",
        "colab": {}
      },
      "source": [
        "# RSS with regression coefficients\n",
        "((advertising.Sales - (est.params[0] + est.params[1]*advertising.TV))**2).sum()/1000"
      ],
      "execution_count": 0,
      "outputs": []
    },
    {
      "cell_type": "markdown",
      "metadata": {
        "id": "uEBfQ2s_5BMp",
        "colab_type": "text"
      },
      "source": [
        "### Table 3.1 & 3.2 - Scikit-learn"
      ]
    },
    {
      "cell_type": "code",
      "metadata": {
        "id": "fz8b-HGY5BMq",
        "colab_type": "code",
        "colab": {}
      },
      "source": [
        "regr = skl_lm.LinearRegression()\n",
        "\n",
        "X = advertising.TV.values.reshape(-1,1)\n",
        "y = advertising.Sales\n",
        "\n",
        "regr.fit(X,y)\n",
        "print(regr.intercept_)\n",
        "print(regr.coef_)"
      ],
      "execution_count": 0,
      "outputs": []
    },
    {
      "cell_type": "code",
      "metadata": {
        "id": "FlelxHtN5BMv",
        "colab_type": "code",
        "colab": {}
      },
      "source": [
        "Sales_pred = regr.predict(X)\n",
        "r2_score(y, Sales_pred)"
      ],
      "execution_count": 0,
      "outputs": []
    },
    {
      "cell_type": "markdown",
      "metadata": {
        "id": "2jtSIR2q5BOI",
        "colab_type": "text"
      },
      "source": [
        "## 3.2 Multiple Linear Regression"
      ]
    },
    {
      "cell_type": "markdown",
      "metadata": {
        "id": "CCjIu2oT5BOK",
        "colab_type": "text"
      },
      "source": [
        "### Table 3.3 - Statsmodels"
      ]
    },
    {
      "cell_type": "code",
      "metadata": {
        "id": "qn_bkLnz5BON",
        "colab_type": "code",
        "colab": {}
      },
      "source": [
        "est = smf.ols('Sales ~ Radio', advertising).fit()\n",
        "est.summary().tables[1]"
      ],
      "execution_count": 0,
      "outputs": []
    },
    {
      "cell_type": "code",
      "metadata": {
        "id": "QUaUSQHy5BOv",
        "colab_type": "code",
        "colab": {}
      },
      "source": [
        "est = smf.ols('Sales ~ Newspaper', advertising).fit()\n",
        "est.summary().tables[1]"
      ],
      "execution_count": 0,
      "outputs": []
    },
    {
      "cell_type": "markdown",
      "metadata": {
        "id": "enSfHStz5BO0",
        "colab_type": "text"
      },
      "source": [
        "### Table 3.4 & 3.6 - Statsmodels"
      ]
    },
    {
      "cell_type": "code",
      "metadata": {
        "id": "nVAFqk2L5BO1",
        "colab_type": "code",
        "colab": {}
      },
      "source": [
        "est = smf.ols('Sales ~ TV + Radio + Newspaper', advertising).fit()\n",
        "est.summary()"
      ],
      "execution_count": 0,
      "outputs": []
    },
    {
      "cell_type": "markdown",
      "metadata": {
        "id": "ROKfTTy45BO3",
        "colab_type": "text"
      },
      "source": [
        "### Table 3.5 - Correlation Matrix"
      ]
    },
    {
      "cell_type": "code",
      "metadata": {
        "id": "cQDrcVuZ5BO4",
        "colab_type": "code",
        "colab": {}
      },
      "source": [
        "advertising.corr()"
      ],
      "execution_count": 0,
      "outputs": []
    },
    {
      "cell_type": "markdown",
      "metadata": {
        "id": "PnrXqSXo5BO6",
        "colab_type": "text"
      },
      "source": [
        "### Figure 3.5 - Multiple Linear Regression"
      ]
    },
    {
      "cell_type": "code",
      "metadata": {
        "id": "vNPzx2sB5BO-",
        "colab_type": "code",
        "colab": {}
      },
      "source": [
        "regr = skl_lm.LinearRegression()\n",
        "\n",
        "X = advertising[['Radio', 'TV']].as_matrix()\n",
        "y = advertising.Sales\n",
        "\n",
        "regr.fit(X,y)\n",
        "print(regr.coef_)\n",
        "print(regr.intercept_)"
      ],
      "execution_count": 0,
      "outputs": []
    },
    {
      "cell_type": "code",
      "metadata": {
        "id": "Yhn9pGgj5BPN",
        "colab_type": "code",
        "colab": {}
      },
      "source": [
        "# What are the min/max values of Radio & TV?\n",
        "# Use these values to set up the grid for plotting.\n",
        "advertising[['Radio', 'TV']].describe()"
      ],
      "execution_count": 0,
      "outputs": []
    },
    {
      "cell_type": "code",
      "metadata": {
        "id": "A_n-dD8b5BPR",
        "colab_type": "code",
        "colab": {}
      },
      "source": [
        "# Create a coordinate grid\n",
        "Radio = np.arange(0,50)\n",
        "TV = np.arange(0,300)\n",
        "\n",
        "B1, B2 = np.meshgrid(Radio, TV, indexing='xy')\n",
        "Z = np.zeros((TV.size, Radio.size))\n",
        "\n",
        "for (i,j),v in np.ndenumerate(Z):\n",
        "        Z[i,j] =(regr.intercept_ + B1[i,j]*regr.coef_[0] + B2[i,j]*regr.coef_[1])"
      ],
      "execution_count": 0,
      "outputs": []
    },
    {
      "cell_type": "code",
      "metadata": {
        "id": "Kcy5E5Ia5BPa",
        "colab_type": "code",
        "colab": {}
      },
      "source": [
        "# Create plot\n",
        "fig = plt.figure(figsize=(10,6))\n",
        "fig.suptitle('Regression: Sales ~ Radio + TV Advertising', fontsize=20)\n",
        "\n",
        "ax = axes3d.Axes3D(fig)\n",
        "\n",
        "ax.plot_surface(B1, B2, Z, rstride=10, cstride=5, alpha=0.4)\n",
        "ax.scatter3D(advertising.Radio, advertising.TV, advertising.Sales, c='r')\n",
        "\n",
        "ax.set_xlabel('Radio')\n",
        "ax.set_xlim(0,50)\n",
        "ax.set_ylabel('TV')\n",
        "ax.set_ylim(ymin=0)\n",
        "ax.set_zlabel('Sales');"
      ],
      "execution_count": 0,
      "outputs": []
    },
    {
      "cell_type": "markdown",
      "metadata": {
        "id": "67XmTvTX5BPb",
        "colab_type": "text"
      },
      "source": [
        "## 3.3 Other Considerations in the Regression Model"
      ]
    },
    {
      "cell_type": "markdown",
      "metadata": {
        "id": "oOrZtZQ85BPc",
        "colab_type": "text"
      },
      "source": [
        "### Figure 3.6"
      ]
    },
    {
      "cell_type": "code",
      "metadata": {
        "id": "bhgAkD995BPe",
        "colab_type": "code",
        "colab": {}
      },
      "source": [
        "sns.pairplot(credit[['Balance','Age','Cards','Education','Income','Limit','Rating']]);"
      ],
      "execution_count": 0,
      "outputs": []
    },
    {
      "cell_type": "markdown",
      "metadata": {
        "id": "VqE67tE35BPg",
        "colab_type": "text"
      },
      "source": [
        "###  Table 3.7"
      ]
    },
    {
      "cell_type": "code",
      "metadata": {
        "id": "hamWM-uF5BPh",
        "colab_type": "code",
        "colab": {}
      },
      "source": [
        "est = smf.ols('Balance ~ Gender', credit).fit()\n",
        "est.summary().tables[1]"
      ],
      "execution_count": 0,
      "outputs": []
    },
    {
      "cell_type": "markdown",
      "metadata": {
        "id": "zHAkbGiO5BPk",
        "colab_type": "text"
      },
      "source": [
        "### Table 3.8"
      ]
    },
    {
      "cell_type": "code",
      "metadata": {
        "id": "nXq_uUda5BPl",
        "colab_type": "code",
        "colab": {}
      },
      "source": [
        "est = smf.ols('Balance ~ Ethnicity', credit).fit()\n",
        "est.summary().tables[1]"
      ],
      "execution_count": 0,
      "outputs": []
    },
    {
      "cell_type": "markdown",
      "metadata": {
        "id": "FcX1k5p35BPo",
        "colab_type": "text"
      },
      "source": [
        "### Table 3.9 - Interaction Variables"
      ]
    },
    {
      "cell_type": "code",
      "metadata": {
        "id": "qRYLOLTX5BPp",
        "colab_type": "code",
        "colab": {}
      },
      "source": [
        "est = smf.ols('Sales ~ TV + Radio + TV*Radio', advertising).fit()\n",
        "est.summary().tables[1]"
      ],
      "execution_count": 0,
      "outputs": []
    },
    {
      "cell_type": "markdown",
      "metadata": {
        "id": "Soegzh8k5BPr",
        "colab_type": "text"
      },
      "source": [
        "### Figure 3.7 - Interaction between qualitative and quantative variables"
      ]
    },
    {
      "cell_type": "code",
      "metadata": {
        "id": "Thy5-yWC5BPr",
        "colab_type": "code",
        "colab": {}
      },
      "source": [
        "est1 = smf.ols('Balance ~ Income + Student2', credit).fit()\n",
        "regr1 = est1.params\n",
        "est2 = smf.ols('Balance ~ Income + Income*Student2', credit).fit()\n",
        "regr2 = est2.params\n",
        "\n",
        "print('Regression 1 - without interaction term')\n",
        "print(regr1)\n",
        "print('\\nRegression 2 - with interaction term')\n",
        "print(regr2)"
      ],
      "execution_count": 0,
      "outputs": []
    },
    {
      "cell_type": "code",
      "metadata": {
        "id": "rZiKQHZy5BPt",
        "colab_type": "code",
        "colab": {}
      },
      "source": [
        "# Income (x-axis)\n",
        "income = np.linspace(0,150)\n",
        "\n",
        "# Balance without interaction term (y-axis)\n",
        "student1 = np.linspace(regr1['Intercept']+regr1['Student2'],\n",
        "                       regr1['Intercept']+regr1['Student2']+150*regr1['Income'])\n",
        "non_student1 =  np.linspace(regr1['Intercept'], regr1['Intercept']+150*regr1['Income'])\n",
        "\n",
        "# Balance with iteraction term (y-axis)\n",
        "student2 = np.linspace(regr2['Intercept']+regr2['Student2'],\n",
        "                       regr2['Intercept']+regr2['Student2']+\n",
        "                       150*(regr2['Income']+regr2['Income:Student2']))\n",
        "non_student2 =  np.linspace(regr2['Intercept'], regr2['Intercept']+150*regr2['Income'])\n",
        "\n",
        "# Create plot\n",
        "fig, (ax1,ax2) = plt.subplots(1,2, figsize=(12,5))\n",
        "ax1.plot(income, student1, 'r', income, non_student1, 'k')\n",
        "ax2.plot(income, student2, 'r', income, non_student2, 'k')\n",
        "\n",
        "for ax in fig.axes:\n",
        "    ax.legend(['student', 'non-student'], loc=2)\n",
        "    ax.set_xlabel('Income')\n",
        "    ax.set_ylabel('Balance')\n",
        "    ax.set_ylim(ymax=1550)"
      ],
      "execution_count": 0,
      "outputs": []
    },
    {
      "cell_type": "markdown",
      "metadata": {
        "id": "i9q-FS965BPv",
        "colab_type": "text"
      },
      "source": [
        "### Figure 3.8 - Non-linear relationships"
      ]
    },
    {
      "cell_type": "code",
      "metadata": {
        "id": "c5hH_Aka5BPw",
        "colab_type": "code",
        "colab": {}
      },
      "source": [
        "# With Seaborn's regplot() you can easily plot higher order polynomials.\n",
        "plt.scatter(auto.horsepower, auto.mpg, facecolors='None', edgecolors='k', alpha=.5) \n",
        "sns.regplot(auto.horsepower, auto.mpg, ci=None, label='Linear', scatter=False, color='orange')\n",
        "sns.regplot(auto.horsepower, auto.mpg, ci=None, label='Degree 2', order=2, scatter=False, color='lightblue')\n",
        "sns.regplot(auto.horsepower, auto.mpg, ci=None, label='Degree 5', order=5, scatter=False, color='g')\n",
        "plt.legend()\n",
        "plt.ylim(5,55)\n",
        "plt.xlim(40,240);"
      ],
      "execution_count": 0,
      "outputs": []
    },
    {
      "cell_type": "markdown",
      "metadata": {
        "id": "Z7Yelysi5BPy",
        "colab_type": "text"
      },
      "source": [
        "### Table 3.10"
      ]
    },
    {
      "cell_type": "code",
      "metadata": {
        "id": "HMZjv-Ct5BPy",
        "colab_type": "code",
        "colab": {}
      },
      "source": [
        "auto['horsepower2'] = auto.horsepower**2\n",
        "auto.head(3)"
      ],
      "execution_count": 0,
      "outputs": []
    },
    {
      "cell_type": "code",
      "metadata": {
        "id": "k3O4XUE75BP0",
        "colab_type": "code",
        "colab": {}
      },
      "source": [
        "est = smf.ols('mpg ~ horsepower + horsepower2', auto).fit()\n",
        "est.summary().tables[1]"
      ],
      "execution_count": 0,
      "outputs": []
    },
    {
      "cell_type": "markdown",
      "metadata": {
        "id": "sw2ft0tl5BP2",
        "colab_type": "text"
      },
      "source": [
        "### Figure 3.9"
      ]
    },
    {
      "cell_type": "code",
      "metadata": {
        "id": "PuuW-sOD5BP4",
        "colab_type": "code",
        "colab": {}
      },
      "source": [
        "regr = skl_lm.LinearRegression()\n",
        "\n",
        "# Linear fit\n",
        "X = auto.horsepower.values.reshape(-1,1)\n",
        "y = auto.mpg\n",
        "regr.fit(X, y)\n",
        "\n",
        "auto['pred1'] = regr.predict(X)\n",
        "auto['resid1'] = auto.mpg - auto.pred1\n",
        "\n",
        "# Quadratic fit\n",
        "X2 = auto[['horsepower', 'horsepower2']].as_matrix()\n",
        "regr.fit(X2, y)\n",
        "\n",
        "auto['pred2'] = regr.predict(X2)\n",
        "auto['resid2'] = auto.mpg - auto.pred2"
      ],
      "execution_count": 0,
      "outputs": []
    },
    {
      "cell_type": "code",
      "metadata": {
        "id": "XQ2DHGao5BP6",
        "colab_type": "code",
        "colab": {}
      },
      "source": [
        "fig, (ax1,ax2) = plt.subplots(1,2, figsize=(12,5))\n",
        "\n",
        "# Left plot\n",
        "sns.regplot(auto.pred1, auto.resid1, lowess=True, \n",
        "            ax=ax1, line_kws={'color':'r', 'lw':1},\n",
        "            scatter_kws={'facecolors':'None', 'edgecolors':'k', 'alpha':0.5})\n",
        "ax1.hlines(0,xmin=ax1.xaxis.get_data_interval()[0],\n",
        "           xmax=ax1.xaxis.get_data_interval()[1], linestyles='dotted')\n",
        "ax1.set_title('Residual Plot for Linear Fit')\n",
        "\n",
        "# Right plot\n",
        "sns.regplot(auto.pred2, auto.resid2, lowess=True,\n",
        "            line_kws={'color':'r', 'lw':1}, ax=ax2,\n",
        "            scatter_kws={'facecolors':'None', 'edgecolors':'k', 'alpha':0.5})\n",
        "ax2.hlines(0,xmin=ax2.xaxis.get_data_interval()[0],\n",
        "           xmax=ax2.xaxis.get_data_interval()[1], linestyles='dotted')\n",
        "ax2.set_title('Residual Plot for Quadratic Fit')\n",
        "\n",
        "for ax in fig.axes:\n",
        "    ax.set_xlabel('Fitted values')\n",
        "    ax.set_ylabel('Residuals')"
      ],
      "execution_count": 0,
      "outputs": []
    },
    {
      "cell_type": "markdown",
      "metadata": {
        "id": "I3-ak_xR5BP8",
        "colab_type": "text"
      },
      "source": [
        "### Figure 3.14"
      ]
    },
    {
      "cell_type": "code",
      "metadata": {
        "id": "_PjYmUiN5BP8",
        "colab_type": "code",
        "colab": {}
      },
      "source": [
        "fig, (ax1,ax2) = plt.subplots(1,2, figsize=(12,5))\n",
        "\n",
        "# Left plot\n",
        "ax1.scatter(credit.Limit, credit.Age, facecolor='None', edgecolor='r')\n",
        "ax1.set_ylabel('Age')\n",
        "\n",
        "# Right plot\n",
        "ax2.scatter(credit.Limit, credit.Rating, facecolor='None', edgecolor='r')\n",
        "ax2.set_ylabel('Rating')\n",
        "\n",
        "for ax in fig.axes:\n",
        "    ax.set_xlabel('Limit')\n",
        "    ax.set_xticks([2000,4000,6000,8000,12000])"
      ],
      "execution_count": 0,
      "outputs": []
    },
    {
      "cell_type": "markdown",
      "metadata": {
        "id": "gIRccQXo5BP9",
        "colab_type": "text"
      },
      "source": [
        "### Figure 3.15"
      ]
    },
    {
      "cell_type": "code",
      "metadata": {
        "id": "GDOiX5i75BP-",
        "colab_type": "code",
        "colab": {}
      },
      "source": [
        "y = credit.Balance\n",
        "\n",
        "# Regression for left plot\n",
        "X = credit[['Age', 'Limit']].as_matrix()\n",
        "regr1 = skl_lm.LinearRegression()\n",
        "regr1.fit(scale(X.astype('float'), with_std=False), y)\n",
        "print('Age/Limit\\n',regr1.intercept_)\n",
        "print(regr1.coef_)\n",
        "\n",
        "# Regression for right plot\n",
        "X2 = credit[['Rating', 'Limit']].as_matrix()\n",
        "regr2 = skl_lm.LinearRegression()\n",
        "regr2.fit(scale(X2.astype('float'), with_std=False), y)\n",
        "print('\\nRating/Limit\\n',regr2.intercept_)\n",
        "print(regr2.coef_)"
      ],
      "execution_count": 0,
      "outputs": []
    },
    {
      "cell_type": "code",
      "metadata": {
        "id": "ZDEGGVtb5BP_",
        "colab_type": "code",
        "colab": {}
      },
      "source": [
        "# Create grid coordinates for plotting\n",
        "B_Age = np.linspace(regr1.coef_[0]-3, regr1.coef_[0]+3, 100)\n",
        "B_Limit = np.linspace(regr1.coef_[1]-0.02, regr1.coef_[1]+0.02, 100)\n",
        "\n",
        "B_Rating = np.linspace(regr2.coef_[0]-3, regr2.coef_[0]+3, 100)\n",
        "B_Limit2 = np.linspace(regr2.coef_[1]-0.2, regr2.coef_[1]+0.2, 100)\n",
        "\n",
        "X1, Y1 = np.meshgrid(B_Limit, B_Age, indexing='xy')\n",
        "X2, Y2 = np.meshgrid(B_Limit2, B_Rating, indexing='xy')\n",
        "Z1 = np.zeros((B_Age.size,B_Limit.size))\n",
        "Z2 = np.zeros((B_Rating.size,B_Limit2.size))\n",
        "\n",
        "Limit_scaled = scale(credit.Limit.astype('float'), with_std=False)\n",
        "Age_scaled = scale(credit.Age.astype('float'), with_std=False)\n",
        "Rating_scaled = scale(credit.Rating.astype('float'), with_std=False)\n",
        "\n",
        "# Calculate Z-values (RSS) based on grid of coefficients\n",
        "for (i,j),v in np.ndenumerate(Z1):\n",
        "    Z1[i,j] =((y - (regr1.intercept_ + X1[i,j]*Limit_scaled +\n",
        "                    Y1[i,j]*Age_scaled))**2).sum()/1000000\n",
        "    \n",
        "for (i,j),v in np.ndenumerate(Z2):\n",
        "    Z2[i,j] =((y - (regr2.intercept_ + X2[i,j]*Limit_scaled +\n",
        "                    Y2[i,j]*Rating_scaled))**2).sum()/1000000"
      ],
      "execution_count": 0,
      "outputs": []
    },
    {
      "cell_type": "code",
      "metadata": {
        "id": "g9btNJZ55BQC",
        "colab_type": "code",
        "colab": {}
      },
      "source": [
        "fig = plt.figure(figsize=(12,5))\n",
        "fig.suptitle('RSS - Regression coefficients', fontsize=20)\n",
        "\n",
        "ax1 = fig.add_subplot(121)\n",
        "ax2 = fig.add_subplot(122)\n",
        "\n",
        "min_RSS = r'$\\beta_0$, $\\beta_1$ for minimized RSS'\n",
        "    \n",
        "# Left plot\n",
        "CS = ax1.contour(X1, Y1, Z1, cmap=plt.cm.Set1, levels=[21.25, 21.5, 21.8])\n",
        "ax1.scatter(regr1.coef_[1], regr1.coef_[0], c='r', label=min_RSS)\n",
        "ax1.clabel(CS, inline=True, fontsize=10, fmt='%1.1f')\n",
        "ax1.set_ylabel(r'$\\beta_{Age}$', fontsize=17)\n",
        "\n",
        "# Right plot\n",
        "CS = ax2.contour(X2, Y2, Z2, cmap=plt.cm.Set1, levels=[21.5, 21.8])\n",
        "ax2.scatter(regr2.coef_[1], regr2.coef_[0], c='r', label=min_RSS)\n",
        "ax2.clabel(CS, inline=True, fontsize=10, fmt='%1.1f')\n",
        "ax2.set_ylabel(r'$\\beta_{Rating}$', fontsize=17)\n",
        "ax2.set_xticks([-0.1, 0, 0.1, 0.2])\n",
        "\n",
        "for ax in fig.axes:\n",
        "    ax.set_xlabel(r'$\\beta_{Limit}$', fontsize=17)\n",
        "    ax.legend()"
      ],
      "execution_count": 0,
      "outputs": []
    },
    {
      "cell_type": "markdown",
      "metadata": {
        "id": "zrLhV8y85BQF",
        "colab_type": "text"
      },
      "source": [
        "### Variance Inflation Factor - page 102"
      ]
    },
    {
      "cell_type": "code",
      "metadata": {
        "id": "OcpHpRBx5BQG",
        "colab_type": "code",
        "colab": {}
      },
      "source": [
        "est_Age = smf.ols('Age ~ Rating + Limit', credit).fit()\n",
        "est_Rating = smf.ols('Rating ~ Age + Limit', credit).fit()\n",
        "est_Limit = smf.ols('Limit ~ Age + Rating', credit).fit()\n",
        "\n",
        "print(1/(1-est_Age.rsquared))\n",
        "print(1/(1-est_Rating.rsquared))\n",
        "print(1/(1-est_Limit.rsquared))"
      ],
      "execution_count": 0,
      "outputs": []
    }
  ]
}